{
 "metadata": {
  "language_info": {
   "codemirror_mode": {
    "name": "ipython",
    "version": 3
   },
   "file_extension": ".py",
   "mimetype": "text/x-python",
   "name": "python",
   "nbconvert_exporter": "python",
   "pygments_lexer": "ipython3",
   "version": "3.9.5"
  },
  "orig_nbformat": 2,
  "kernelspec": {
   "name": "python395jvsc74a57bd0b4e1671892531c7f42accfb44082bb19c3b112f7857c036019b113172dd3e2c2",
   "display_name": "Python 3.9.5 64-bit ('tfm_cic': conda)"
  },
  "metadata": {
   "interpreter": {
    "hash": "b4e1671892531c7f42accfb44082bb19c3b112f7857c036019b113172dd3e2c2"
   }
  }
 },
 "nbformat": 4,
 "nbformat_minor": 2,
 "cells": [
  {
   "source": [
    "# Exploratory Data Analysis \n",
    "\n",
    "## Performed on the energy network dataset, to verify outliers, distribution and meaningful graphs"
   ],
   "cell_type": "markdown",
   "metadata": {}
  },
  {
   "cell_type": "code",
   "execution_count": 1,
   "metadata": {},
   "outputs": [
    {
     "output_type": "stream",
     "name": "stdout",
     "text": [
      "Imported AutoViz_Class version: 0.0.81. Call using:\n    from autoviz.AutoViz_Class import AutoViz_Class\n    AV = AutoViz_Class()\n    AV.AutoViz(filename, sep=',', depVar='', dfte=None, header=0, verbose=0,\n                            lowess=False,chart_format='svg',max_rows_analyzed=150000,max_cols_analyzed=30)\nNote: verbose=0 or 1 generates charts and displays them in your local Jupyter notebook.\n      verbose=2 saves plots in your local machine under AutoViz_Plots directory and does not display charts.\n"
     ]
    }
   ],
   "source": [
    "# pip install sweetviz\n",
    "# conda install -c conda-forge lux-api\n",
    "\n",
    "# Specific libraries\n",
    "# import sweetviz as sv\n",
    "import autoviz\n",
    "from autoviz.AutoViz_Class import AutoViz_Class\n",
    "# import lux\n",
    "\n",
    "# General libraries\n",
    "import sys, os\n",
    "from os import system\n",
    "import warnings\n",
    "\n",
    "import numpy  as np\n",
    "import pandas as pd\n",
    "import matplotlib.pyplot as plt\n",
    "\n",
    "from datetime import datetime as dt\n",
    "from datetime import date\n",
    "from datetime import timedelta"
   ]
  },
  {
   "source": [
    "### Part 0: Integrating the data"
   ],
   "cell_type": "markdown",
   "metadata": {}
  },
  {
   "cell_type": "code",
   "execution_count": 2,
   "metadata": {},
   "outputs": [],
   "source": [
    "# Constants\n",
    "values_column_names = [\"time\", \"branch\" , \"organization\", \"substation\", \"transformer_code\", \"App SW\", \n",
    "                        \"V_L1\", \"I_L1\", \"W_L1\", \"QL_L1\", \"QC_L1\",\"cos_L1\", \"angle_L1\",\n",
    "                        \"V_L2\", \"I_L2\", \"W_L2\", \"QL_L2\", \"QC_L2\",\"cos_L2\", \"angle_L2\",\n",
    "                        \"V_L3\", \"I_L3\", \"W_L3\", \"QL_L3\", \"QC_L3\",\"cos_L3\", \"angle_L3\",\n",
    "                        \"temp_amb\",\n",
    "                        \"aplus_L1\", \"aminus_L1\", \"RplusL_L1\", \"RminusL_L1\", \"RplusC_L1\", \"RminusC_L1\", \n",
    "                        \"aplus_L2\", \"aminus_L2\", \"RplusL_L2\", \"RminusL_L2\", \"RplusC_L2\", \"RminusC_L2\",\n",
    "                        \"aplus_L3\", \"aminus_L3\", \"RplusL_L3\", \"RminusL_L3\", \"RplusC_L3\", \"RminusC_L3\"]\n",
    "\n",
    "script_path = os.getcwd()\n",
    "data = pd.read_csv('../DATA/LVSM_Def.csv',  sep = ';', header=0, names=values_column_names)\n",
    "\n",
    "# Cleaning data table\n",
    "data = data.drop([\"aminus_L1\", \"RminusL_L1\", \"RplusC_L1\", \n",
    "                  \"aminus_L2\", \"RminusL_L2\", \"RplusC_L2\",\n",
    "                  \"aminus_L3\", \"RminusL_L3\", \"RplusC_L3\"], axis=1)\n",
    "\n",
    "data = data.reset_index(drop = True)\n",
    "\n",
    "# Change column types to appropiate\n",
    "data = data.astype({\"time\": str, \"branch\": str , \"organization\": str, \"substation\": str, \"transformer_code\": str, \"App SW\": str})\n",
    "\n",
    "data[[\"V_L1\", \"I_L1\", \"W_L1\", \"QL_L1\", \"QC_L1\",\"cos_L1\", \"angle_L1\",\n",
    "      \"V_L2\", \"I_L2\", \"W_L2\", \"QL_L2\", \"QC_L2\",\"cos_L2\", \"angle_L2\",\n",
    "      \"V_L3\", \"I_L3\", \"W_L3\", \"QL_L3\", \"QC_L3\",\"cos_L3\", \"angle_L3\",\n",
    "      \"temp_amb\"]] = data[[\"V_L1\", \"I_L1\", \"W_L1\", \"QL_L1\", \"QC_L1\",\"cos_L1\", \"angle_L1\",\n",
    "                           \"V_L2\", \"I_L2\", \"W_L2\", \"QL_L2\", \"QC_L2\",\"cos_L2\", \"angle_L2\",\n",
    "                           \"V_L3\", \"I_L3\", \"W_L3\", \"QL_L3\", \"QC_L3\",\"cos_L3\", \"angle_L3\",\n",
    "                           \"temp_amb\"]].astype(float)\n",
    "\n",
    "\n",
    "### Deal with the \"24:00\" problem. Adapt BOTH the hour and the day.\n",
    "# Get the indexes and replace hour\n",
    "for i, date in enumerate(data['time']):\n",
    "    if date.split()[1].split(':')[0] == '24':\n",
    "        data.loc[i, 'time'] = data.loc[i, 'time'].replace(\"24:00\",\"00:00\")\n",
    "        data.loc[i, 'time'] = pd.to_datetime(data.loc[i, 'time'], format = '%Y-%m-%d %H:%M') + timedelta(days = 1)\n",
    "\n",
    "# Update the format\n",
    "data['time'] = pd.to_datetime(data['time'], format = '%Y-%m-%d %H:%M:%S')\n"
   ]
  },
  {
   "cell_type": "code",
   "execution_count": 3,
   "metadata": {},
   "outputs": [],
   "source": [
    "# Copy of the dataframe to split date and hour\n",
    "data_new = data.copy(deep=True)"
   ]
  },
  {
   "cell_type": "code",
   "execution_count": 4,
   "metadata": {},
   "outputs": [
    {
     "output_type": "stream",
     "name": "stdout",
     "text": [
      "Cleaning NA values from dataset\n",
      "Cleaning duplicate values from dataset\n"
     ]
    }
   ],
   "source": [
    "### Preformat\n",
    "\n",
    "# Split the time column into date and hour columns, for diagram's input preparation\n",
    "data_new['date'] = (data_new['time']).dt.date\n",
    "data_new['hour'] = (data_new['time']).dt.time\n",
    "\n",
    "# Delete the old time column\n",
    "data_new = data_new.drop([\"time\"], axis=1)\n",
    "\n",
    "# Put both columns at the start\n",
    "data_new = pd.concat([data_new['hour'], data_new.drop('hour',axis=1)], axis=1)\n",
    "data_new = pd.concat([data_new['date'], data_new.drop('date',axis=1)], axis=1)\n",
    "\n",
    "# Cleaning NA values\n",
    "if data_new.isna().sum().sum() < .10 * len(data_new): \n",
    "    print (\"Cleaning NA values from dataset\")\n",
    "    data_new = data_new.dropna()\n",
    "else:\n",
    "    raise Exception(\"Careful! Deleting NaN values would cut most of the dataset\")\n",
    "\n",
    "# Remove duplicates\n",
    "if data.duplicated().sum() < .10 * len(data_new): \n",
    "    print (\"Cleaning duplicate values from dataset\")\n",
    "    data_new = data_new.drop_duplicates(subset=['date', 'hour', 'substation', 'App SW'])\n",
    "else:\n",
    "    raise Exception(\"Careful! Deleting duplicated values would cut most of the dataset\")\n",
    "\n",
    "\n"
   ]
  },
  {
   "cell_type": "code",
   "execution_count": 5,
   "metadata": {},
   "outputs": [
    {
     "output_type": "execute_result",
     "data": {
      "text/plain": [
       "         date      hour branch organization substation transformer_code  \\\n",
       "0  2019-06-16  01:00:00     AE          SZZ       S201              TR1   \n",
       "1  2019-06-16  02:00:00     AE          SZZ       S201              TR1   \n",
       "2  2019-06-16  03:00:00     AE          SZZ       S201              TR1   \n",
       "3  2019-06-16  04:00:00     AE          SZZ       S201              TR1   \n",
       "4  2019-06-16  05:00:00     AE          SZZ       S201              TR1   \n",
       "\n",
       "  App SW   V_L1   I_L1     W_L1  ...  temp_amb  aplus_L1  RplusL_L1  \\\n",
       "0   003F  234.0   65.0  14964.0  ...      30.0   16082.0     1983.0   \n",
       "1   003F  233.0   57.0  13091.0  ...      29.0   14342.0     1441.0   \n",
       "2   003F  236.0   55.0  12847.0  ...      29.0   13543.0     1381.0   \n",
       "3   003F  234.0  135.0  30517.0  ...      29.0   20757.0     2954.0   \n",
       "4   003F  235.0  102.0  23069.0  ...      29.0   29753.0     5054.0   \n",
       "\n",
       "   RminusC_L1  aplus_L2  RplusL_L2  RminusC_L2  aplus_L3  RplusL_L3  \\\n",
       "0         0.0   16736.0     1620.0         0.0   23015.0     2179.0   \n",
       "1         0.0   14545.0     1057.0        28.0   23764.0     2906.0   \n",
       "2         0.0   14073.0     1141.0         0.0   22147.0     2942.0   \n",
       "3         0.0   22059.0     2021.0         0.0   27317.0     3701.0   \n",
       "4         0.0   31259.0     3121.0         2.0   33013.0     3778.0   \n",
       "\n",
       "   RminusC_L3  \n",
       "0         0.0  \n",
       "1         0.0  \n",
       "2         0.0  \n",
       "3         0.0  \n",
       "4         0.0  \n",
       "\n",
       "[5 rows x 38 columns]"
      ],
      "text/html": "<div>\n<style scoped>\n    .dataframe tbody tr th:only-of-type {\n        vertical-align: middle;\n    }\n\n    .dataframe tbody tr th {\n        vertical-align: top;\n    }\n\n    .dataframe thead th {\n        text-align: right;\n    }\n</style>\n<table border=\"1\" class=\"dataframe\">\n  <thead>\n    <tr style=\"text-align: right;\">\n      <th></th>\n      <th>date</th>\n      <th>hour</th>\n      <th>branch</th>\n      <th>organization</th>\n      <th>substation</th>\n      <th>transformer_code</th>\n      <th>App SW</th>\n      <th>V_L1</th>\n      <th>I_L1</th>\n      <th>W_L1</th>\n      <th>...</th>\n      <th>temp_amb</th>\n      <th>aplus_L1</th>\n      <th>RplusL_L1</th>\n      <th>RminusC_L1</th>\n      <th>aplus_L2</th>\n      <th>RplusL_L2</th>\n      <th>RminusC_L2</th>\n      <th>aplus_L3</th>\n      <th>RplusL_L3</th>\n      <th>RminusC_L3</th>\n    </tr>\n  </thead>\n  <tbody>\n    <tr>\n      <th>0</th>\n      <td>2019-06-16</td>\n      <td>01:00:00</td>\n      <td>AE</td>\n      <td>SZZ</td>\n      <td>S201</td>\n      <td>TR1</td>\n      <td>003F</td>\n      <td>234.0</td>\n      <td>65.0</td>\n      <td>14964.0</td>\n      <td>...</td>\n      <td>30.0</td>\n      <td>16082.0</td>\n      <td>1983.0</td>\n      <td>0.0</td>\n      <td>16736.0</td>\n      <td>1620.0</td>\n      <td>0.0</td>\n      <td>23015.0</td>\n      <td>2179.0</td>\n      <td>0.0</td>\n    </tr>\n    <tr>\n      <th>1</th>\n      <td>2019-06-16</td>\n      <td>02:00:00</td>\n      <td>AE</td>\n      <td>SZZ</td>\n      <td>S201</td>\n      <td>TR1</td>\n      <td>003F</td>\n      <td>233.0</td>\n      <td>57.0</td>\n      <td>13091.0</td>\n      <td>...</td>\n      <td>29.0</td>\n      <td>14342.0</td>\n      <td>1441.0</td>\n      <td>0.0</td>\n      <td>14545.0</td>\n      <td>1057.0</td>\n      <td>28.0</td>\n      <td>23764.0</td>\n      <td>2906.0</td>\n      <td>0.0</td>\n    </tr>\n    <tr>\n      <th>2</th>\n      <td>2019-06-16</td>\n      <td>03:00:00</td>\n      <td>AE</td>\n      <td>SZZ</td>\n      <td>S201</td>\n      <td>TR1</td>\n      <td>003F</td>\n      <td>236.0</td>\n      <td>55.0</td>\n      <td>12847.0</td>\n      <td>...</td>\n      <td>29.0</td>\n      <td>13543.0</td>\n      <td>1381.0</td>\n      <td>0.0</td>\n      <td>14073.0</td>\n      <td>1141.0</td>\n      <td>0.0</td>\n      <td>22147.0</td>\n      <td>2942.0</td>\n      <td>0.0</td>\n    </tr>\n    <tr>\n      <th>3</th>\n      <td>2019-06-16</td>\n      <td>04:00:00</td>\n      <td>AE</td>\n      <td>SZZ</td>\n      <td>S201</td>\n      <td>TR1</td>\n      <td>003F</td>\n      <td>234.0</td>\n      <td>135.0</td>\n      <td>30517.0</td>\n      <td>...</td>\n      <td>29.0</td>\n      <td>20757.0</td>\n      <td>2954.0</td>\n      <td>0.0</td>\n      <td>22059.0</td>\n      <td>2021.0</td>\n      <td>0.0</td>\n      <td>27317.0</td>\n      <td>3701.0</td>\n      <td>0.0</td>\n    </tr>\n    <tr>\n      <th>4</th>\n      <td>2019-06-16</td>\n      <td>05:00:00</td>\n      <td>AE</td>\n      <td>SZZ</td>\n      <td>S201</td>\n      <td>TR1</td>\n      <td>003F</td>\n      <td>235.0</td>\n      <td>102.0</td>\n      <td>23069.0</td>\n      <td>...</td>\n      <td>29.0</td>\n      <td>29753.0</td>\n      <td>5054.0</td>\n      <td>0.0</td>\n      <td>31259.0</td>\n      <td>3121.0</td>\n      <td>2.0</td>\n      <td>33013.0</td>\n      <td>3778.0</td>\n      <td>0.0</td>\n    </tr>\n  </tbody>\n</table>\n<p>5 rows × 38 columns</p>\n</div>"
     },
     "metadata": {},
     "execution_count": 5
    }
   ],
   "source": [
    "warnings.filterwarnings('ignore')\n",
    "data_new.head()"
   ]
  },
  {
   "cell_type": "code",
   "execution_count": 6,
   "metadata": {},
   "outputs": [],
   "source": [
    "# Prepare the train and test dataset\n",
    "msk = np.random.rand(len(data_new)) < 0.98\n",
    "\n",
    "df_train = data_new[msk]\n",
    "df_test = data_new[~msk]"
   ]
  },
  {
   "source": [
    "### Part 0: Automating EDA - Pandas methods"
   ],
   "cell_type": "markdown",
   "metadata": {}
  },
  {
   "cell_type": "code",
   "execution_count": 7,
   "metadata": {},
   "outputs": [
    {
     "output_type": "execute_result",
     "data": {
      "text/plain": [
       "                V_L1           I_L1           W_L1          QL_L1  \\\n",
       "count  164433.000000  164433.000000  164433.000000  164433.000000   \n",
       "mean      233.955271     229.200878   51290.507058    4815.429981   \n",
       "std         4.946956     134.517281   32842.046199    6169.744172   \n",
       "min       221.000000      20.000000 -127920.000000       0.000000   \n",
       "25%       231.000000     125.000000   27662.000000     112.000000   \n",
       "50%       234.000000     199.000000   45173.000000    2265.000000   \n",
       "75%       237.000000     300.000000   69113.000000    7441.000000   \n",
       "max       248.000000    1089.000000  252547.000000   43387.000000   \n",
       "\n",
       "               QC_L1         cos_L1       angle_L1           V_L2  \\\n",
       "count  164433.000000  164433.000000  164433.000000  164433.000000   \n",
       "mean    -1102.215942       0.422519      34.157633     234.206260   \n",
       "std      3337.652630       0.493962      68.148608       4.918935   \n",
       "min    -29196.000000       0.000000       0.000000     219.000000   \n",
       "25%     -1327.000000       0.000000       4.000000     231.000000   \n",
       "50%         0.000000       0.000000       8.000000     235.000000   \n",
       "75%         0.000000       1.000000      18.000000     238.000000   \n",
       "max     16371.000000       1.000000     360.000000     248.000000   \n",
       "\n",
       "                I_L2           W_L2  ...       temp_amb       aplus_L1  \\\n",
       "count  164433.000000  164433.000000  ...  164433.000000  164433.000000   \n",
       "mean      228.577481   51193.397293  ...      27.055743   52862.287357   \n",
       "std       134.815493   33019.074419  ...      29.892393   31270.631841   \n",
       "min        15.000000 -130406.000000  ...    -231.000000      29.000000   \n",
       "25%       128.000000   28253.000000  ...      23.000000   28447.000000   \n",
       "50%       200.000000   45400.000000  ...      27.000000   46130.000000   \n",
       "75%       294.000000   67552.000000  ...      31.000000   69649.000000   \n",
       "max      1240.000000  284702.000000  ...     106.000000  360388.000000   \n",
       "\n",
       "           RplusL_L1     RminusC_L1       aplus_L2      RplusL_L2  \\\n",
       "count  164433.000000  164433.000000  164433.000000  164433.000000   \n",
       "mean     4824.976988    1717.213169   52780.178450    4436.669744   \n",
       "std      6114.320100    3030.723801   31406.825283    5736.911689   \n",
       "min         0.000000       0.000000      21.000000       0.000000   \n",
       "25%       163.000000       0.000000   29198.000000      97.000000   \n",
       "50%      2377.000000      72.000000   46227.000000    1994.000000   \n",
       "75%      7434.000000    2314.000000   68176.000000    6904.000000   \n",
       "max     58071.000000   34069.000000  382292.000000   53412.000000   \n",
       "\n",
       "          RminusC_L2       aplus_L3      RplusL_L3     RminusC_L3  \n",
       "count  164433.000000  164433.000000  164433.000000  164433.000000  \n",
       "mean     1927.236802   52245.420487    4791.569235    1994.575864  \n",
       "std      3355.845602   29398.677652    6348.562027    3689.507923  \n",
       "min         0.000000      28.000000       0.000000       0.000000  \n",
       "25%         0.000000   28795.000000     120.000000       0.000000  \n",
       "50%       140.000000   46522.000000    2106.000000     113.000000  \n",
       "75%      2554.000000   69531.000000    7275.000000    2702.000000  \n",
       "max     38752.000000  312639.000000   70957.000000   40375.000000  \n",
       "\n",
       "[8 rows x 31 columns]"
      ],
      "text/html": "<div>\n<style scoped>\n    .dataframe tbody tr th:only-of-type {\n        vertical-align: middle;\n    }\n\n    .dataframe tbody tr th {\n        vertical-align: top;\n    }\n\n    .dataframe thead th {\n        text-align: right;\n    }\n</style>\n<table border=\"1\" class=\"dataframe\">\n  <thead>\n    <tr style=\"text-align: right;\">\n      <th></th>\n      <th>V_L1</th>\n      <th>I_L1</th>\n      <th>W_L1</th>\n      <th>QL_L1</th>\n      <th>QC_L1</th>\n      <th>cos_L1</th>\n      <th>angle_L1</th>\n      <th>V_L2</th>\n      <th>I_L2</th>\n      <th>W_L2</th>\n      <th>...</th>\n      <th>temp_amb</th>\n      <th>aplus_L1</th>\n      <th>RplusL_L1</th>\n      <th>RminusC_L1</th>\n      <th>aplus_L2</th>\n      <th>RplusL_L2</th>\n      <th>RminusC_L2</th>\n      <th>aplus_L3</th>\n      <th>RplusL_L3</th>\n      <th>RminusC_L3</th>\n    </tr>\n  </thead>\n  <tbody>\n    <tr>\n      <th>count</th>\n      <td>164433.000000</td>\n      <td>164433.000000</td>\n      <td>164433.000000</td>\n      <td>164433.000000</td>\n      <td>164433.000000</td>\n      <td>164433.000000</td>\n      <td>164433.000000</td>\n      <td>164433.000000</td>\n      <td>164433.000000</td>\n      <td>164433.000000</td>\n      <td>...</td>\n      <td>164433.000000</td>\n      <td>164433.000000</td>\n      <td>164433.000000</td>\n      <td>164433.000000</td>\n      <td>164433.000000</td>\n      <td>164433.000000</td>\n      <td>164433.000000</td>\n      <td>164433.000000</td>\n      <td>164433.000000</td>\n      <td>164433.000000</td>\n    </tr>\n    <tr>\n      <th>mean</th>\n      <td>233.955271</td>\n      <td>229.200878</td>\n      <td>51290.507058</td>\n      <td>4815.429981</td>\n      <td>-1102.215942</td>\n      <td>0.422519</td>\n      <td>34.157633</td>\n      <td>234.206260</td>\n      <td>228.577481</td>\n      <td>51193.397293</td>\n      <td>...</td>\n      <td>27.055743</td>\n      <td>52862.287357</td>\n      <td>4824.976988</td>\n      <td>1717.213169</td>\n      <td>52780.178450</td>\n      <td>4436.669744</td>\n      <td>1927.236802</td>\n      <td>52245.420487</td>\n      <td>4791.569235</td>\n      <td>1994.575864</td>\n    </tr>\n    <tr>\n      <th>std</th>\n      <td>4.946956</td>\n      <td>134.517281</td>\n      <td>32842.046199</td>\n      <td>6169.744172</td>\n      <td>3337.652630</td>\n      <td>0.493962</td>\n      <td>68.148608</td>\n      <td>4.918935</td>\n      <td>134.815493</td>\n      <td>33019.074419</td>\n      <td>...</td>\n      <td>29.892393</td>\n      <td>31270.631841</td>\n      <td>6114.320100</td>\n      <td>3030.723801</td>\n      <td>31406.825283</td>\n      <td>5736.911689</td>\n      <td>3355.845602</td>\n      <td>29398.677652</td>\n      <td>6348.562027</td>\n      <td>3689.507923</td>\n    </tr>\n    <tr>\n      <th>min</th>\n      <td>221.000000</td>\n      <td>20.000000</td>\n      <td>-127920.000000</td>\n      <td>0.000000</td>\n      <td>-29196.000000</td>\n      <td>0.000000</td>\n      <td>0.000000</td>\n      <td>219.000000</td>\n      <td>15.000000</td>\n      <td>-130406.000000</td>\n      <td>...</td>\n      <td>-231.000000</td>\n      <td>29.000000</td>\n      <td>0.000000</td>\n      <td>0.000000</td>\n      <td>21.000000</td>\n      <td>0.000000</td>\n      <td>0.000000</td>\n      <td>28.000000</td>\n      <td>0.000000</td>\n      <td>0.000000</td>\n    </tr>\n    <tr>\n      <th>25%</th>\n      <td>231.000000</td>\n      <td>125.000000</td>\n      <td>27662.000000</td>\n      <td>112.000000</td>\n      <td>-1327.000000</td>\n      <td>0.000000</td>\n      <td>4.000000</td>\n      <td>231.000000</td>\n      <td>128.000000</td>\n      <td>28253.000000</td>\n      <td>...</td>\n      <td>23.000000</td>\n      <td>28447.000000</td>\n      <td>163.000000</td>\n      <td>0.000000</td>\n      <td>29198.000000</td>\n      <td>97.000000</td>\n      <td>0.000000</td>\n      <td>28795.000000</td>\n      <td>120.000000</td>\n      <td>0.000000</td>\n    </tr>\n    <tr>\n      <th>50%</th>\n      <td>234.000000</td>\n      <td>199.000000</td>\n      <td>45173.000000</td>\n      <td>2265.000000</td>\n      <td>0.000000</td>\n      <td>0.000000</td>\n      <td>8.000000</td>\n      <td>235.000000</td>\n      <td>200.000000</td>\n      <td>45400.000000</td>\n      <td>...</td>\n      <td>27.000000</td>\n      <td>46130.000000</td>\n      <td>2377.000000</td>\n      <td>72.000000</td>\n      <td>46227.000000</td>\n      <td>1994.000000</td>\n      <td>140.000000</td>\n      <td>46522.000000</td>\n      <td>2106.000000</td>\n      <td>113.000000</td>\n    </tr>\n    <tr>\n      <th>75%</th>\n      <td>237.000000</td>\n      <td>300.000000</td>\n      <td>69113.000000</td>\n      <td>7441.000000</td>\n      <td>0.000000</td>\n      <td>1.000000</td>\n      <td>18.000000</td>\n      <td>238.000000</td>\n      <td>294.000000</td>\n      <td>67552.000000</td>\n      <td>...</td>\n      <td>31.000000</td>\n      <td>69649.000000</td>\n      <td>7434.000000</td>\n      <td>2314.000000</td>\n      <td>68176.000000</td>\n      <td>6904.000000</td>\n      <td>2554.000000</td>\n      <td>69531.000000</td>\n      <td>7275.000000</td>\n      <td>2702.000000</td>\n    </tr>\n    <tr>\n      <th>max</th>\n      <td>248.000000</td>\n      <td>1089.000000</td>\n      <td>252547.000000</td>\n      <td>43387.000000</td>\n      <td>16371.000000</td>\n      <td>1.000000</td>\n      <td>360.000000</td>\n      <td>248.000000</td>\n      <td>1240.000000</td>\n      <td>284702.000000</td>\n      <td>...</td>\n      <td>106.000000</td>\n      <td>360388.000000</td>\n      <td>58071.000000</td>\n      <td>34069.000000</td>\n      <td>382292.000000</td>\n      <td>53412.000000</td>\n      <td>38752.000000</td>\n      <td>312639.000000</td>\n      <td>70957.000000</td>\n      <td>40375.000000</td>\n    </tr>\n  </tbody>\n</table>\n<p>8 rows × 31 columns</p>\n</div>"
     },
     "metadata": {},
     "execution_count": 7
    }
   ],
   "source": [
    "data_new.describe()"
   ]
  },
  {
   "source": [
    "### Part 1: Automating EDA - Using Sweetviz"
   ],
   "cell_type": "markdown",
   "metadata": {}
  },
  {
   "cell_type": "code",
   "execution_count": null,
   "metadata": {},
   "outputs": [],
   "source": [
    "# Create analysis report\n",
    "analyze_report = sv.analyze(data_new)\n",
    "analyze_report.show_html()"
   ]
  },
  {
   "cell_type": "code",
   "execution_count": null,
   "metadata": {},
   "outputs": [],
   "source": [
    "# Create a Train and Test Data Comparison - Differences and Similarities\n",
    "compare = sv.compare([df_train, \"Training Data\"], [df_test, \"Test Data\"], \"W_L1\")\n",
    "compare.show_html()"
   ]
  },
  {
   "cell_type": "code",
   "execution_count": 12,
   "metadata": {},
   "outputs": [
    {
     "output_type": "stream",
     "name": "stderr",
     "text": [
      "Done! Use 'show' commands to display/save.   |██████████| [100%]   00:04 -> (00:00 left)\n",
      "Report Compare_Intra.html was generated! NOTEBOOK/COLAB USERS: the web browser MAY not pop up, regardless, the report IS saved in your notebook/colab files.\n"
     ]
    }
   ],
   "source": [
    "# Create a Comparison - Particular column\n",
    "\n",
    "intra_com = sv.compare_intra(data_new[[\"date\", \"hour\", \"substation\", \"App SW\", \n",
    "                        \"V_L1\", \"I_L1\", \"W_L1\", \"QL_L1\", \"QC_L1\",\"cos_L1\", \"angle_L1\",\n",
    "                        \"V_L2\", \"I_L2\", \"W_L2\", \"QL_L2\", \"QC_L2\",\"cos_L2\", \"angle_L2\",\n",
    "                        \"V_L3\", \"I_L3\", \"W_L3\", \"QL_L3\", \"QC_L3\",\"cos_L3\", \"angle_L3\",\n",
    "                        \"temp_amb\"]], data_new[\"substation\"] == \"S242\", [\"S201\", \"S2274\", \"S242\", \"S286\", \"S287\", \"S406\", \"S480\", \"S499\", \"S531\", \"S612\", \"S68638\", \"S7116\", \"S733\", \"S740\", \"S744\", \"S76020\", \"S813\", \"S820\", \"S850\", \"S868\"])\n",
    "intra_com.show_html(filepath='Compare_Intra.html', open_browser=True, layout='widescreen', scale=None)"
   ]
  },
  {
   "cell_type": "code",
   "execution_count": null,
   "metadata": {},
   "outputs": [],
   "source": [
    "# Display the info on the output cell, not the browser\n",
    "# report.show_notebook(w=None, h=None, scale=None,layout='widescreen',filepath=None)"
   ]
  },
  {
   "source": [
    "### Part 2: Automating EDA - Using Autoviz"
   ],
   "cell_type": "markdown",
   "metadata": {}
  },
  {
   "cell_type": "code",
   "execution_count": 8,
   "metadata": {},
   "outputs": [
    {
     "output_type": "stream",
     "name": "stdout",
     "text": [
      "Shape of your Data Set: (164433, 38)\n",
      "############## C L A S S I F Y I N G  V A R I A B L E S  ####################\n",
      "Classifying variables in data set...\n",
      "    Number of Numeric Columns =  28\n",
      "    Number of Integer-Categorical Columns =  0\n",
      "    Number of String-Categorical Columns =  2\n",
      "    Number of Factor-Categorical Columns =  0\n",
      "    Number of String-Boolean Columns =  0\n",
      "    Number of Numeric-Boolean Columns =  3\n",
      "    Number of Discrete String Columns =  2\n",
      "    Number of NLP String Columns =  0\n",
      "    Number of Date Time Columns =  0\n",
      "    Number of ID Columns =  0\n",
      "    Number of Columns to Delete =  3\n",
      "    38 Predictors classified...\n",
      "        This does not include the Target column(s)\n",
      "        5 variables removed since they were ID or low-information variables\n",
      "Since Number of Rows in data 164433 exceeds maximum, randomly sampling 50000 rows for EDA...\n",
      "20 numeric variables in data exceeds limit, taking top 20 variables\n",
      "Number of All Scatter Plots = 210\n"
     ]
    }
   ],
   "source": [
    "from autoviz.AutoViz_Class import AutoViz_Class\n",
    "\n",
    "AV = AutoViz_Class()\n",
    "\n",
    "df1 = AV.AutoViz(filename=\"\", dfte=data_new, chart_format=\"svg\", max_rows_analyzed=10000, max_cols_analyzed=15,)"
   ]
  },
  {
   "source": [
    "### Part 3: Automating EDA - Using Lux"
   ],
   "cell_type": "markdown",
   "metadata": {}
  },
  {
   "cell_type": "code",
   "execution_count": null,
   "metadata": {},
   "outputs": [],
   "source": [
    "data_new"
   ]
  },
  {
   "cell_type": "code",
   "execution_count": null,
   "metadata": {},
   "outputs": [],
   "source": [
    "data_new.intent = [\"I_L1\", \"W_L1\"]\n",
    "data_new"
   ]
  },
  {
   "cell_type": "code",
   "execution_count": null,
   "metadata": {},
   "outputs": [],
   "source": [
    "interestingVis = data_new.exported\n",
    "interestingVis"
   ]
  },
  {
   "cell_type": "code",
   "execution_count": null,
   "metadata": {},
   "outputs": [],
   "source": [
    "interestingVis[0]"
   ]
  },
  {
   "cell_type": "code",
   "execution_count": null,
   "metadata": {},
   "outputs": [],
   "source": [
    "X.recommendation[\"Enhance\"]"
   ]
  },
  {
   "cell_type": "code",
   "execution_count": null,
   "metadata": {},
   "outputs": [],
   "source": [
    "print(interestingVis[0].to_matplotlib())"
   ]
  },
  {
   "source": [
    "### Part 4: Filter useful info"
   ],
   "cell_type": "markdown",
   "metadata": {}
  },
  {
   "cell_type": "code",
   "execution_count": null,
   "metadata": {},
   "outputs": [],
   "source": [
    "data = data.drop([\"aminus_L1\", \"RminusL_L1\", \"RplusC_L1\", \n",
    "                  \"aminus_L2\", \"RminusL_L2\", \"RplusC_L2\",\n",
    "                  \"aminus_L3\", \"RminusL_L3\", \"RplusC_L3\"], axis=1)\n"
   ]
  },
  {
   "cell_type": "code",
   "execution_count": null,
   "metadata": {},
   "outputs": [],
   "source": [
    "# Randomly shuffle a dataframe\n",
    "data.reindex(np.random.permutation(data.index))"
   ]
  }
 ]
}