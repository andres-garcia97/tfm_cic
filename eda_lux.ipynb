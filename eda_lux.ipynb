{
 "metadata": {
  "language_info": {
   "codemirror_mode": {
    "name": "ipython",
    "version": 3
   },
   "file_extension": ".py",
   "mimetype": "text/x-python",
   "name": "python",
   "nbconvert_exporter": "python",
   "pygments_lexer": "ipython3",
   "version": "3.9.5"
  },
  "orig_nbformat": 2,
  "kernelspec": {
   "name": "python395jvsc74a57bd0b4e1671892531c7f42accfb44082bb19c3b112f7857c036019b113172dd3e2c2",
   "display_name": "Python 3.9.5 64-bit ('tfm_cic': conda)"
  },
  "metadata": {
   "interpreter": {
    "hash": "b4e1671892531c7f42accfb44082bb19c3b112f7857c036019b113172dd3e2c2"
   }
  }
 },
 "nbformat": 4,
 "nbformat_minor": 2,
 "cells": [
  {
   "cell_type": "code",
   "execution_count": 11,
   "metadata": {},
   "outputs": [],
   "source": [
    "import lux\n",
    "import pandas as pd\n",
    "import warnings"
   ]
  },
  {
   "cell_type": "code",
   "execution_count": 14,
   "metadata": {},
   "outputs": [],
   "source": [
    "# Constants\n",
    "values_column_names = [\"time\", \"branch\" , \"organization\", \"substation\", \"transformer_code\", \"App SW\", \n",
    "                        \"V_L1\", \"I_L1\", \"W_L1\", \"QL_L1\", \"QC_L1\",\"cos_L1\", \"angle_L1\",\n",
    "                        \"V_L2\", \"I_L2\", \"W_L2\", \"QL_L2\", \"QC_L2\",\"cos_L2\", \"angle_L2\",\n",
    "                        \"V_L3\", \"I_L3\", \"W_L3\", \"QL_L3\", \"QC_L3\",\"cos_L3\", \"angle_L3\",\n",
    "                        \"temp_amb\",\n",
    "                        \"aplus_L1\", \"aminus_L1\", \"RplusL_L1\", \"RminusL_L1\", \"RplusC_L1\", \"RminusC_L1\", \n",
    "                        \"aplus_L2\", \"aminus_L2\", \"RplusL_L2\", \"RminusL_L2\", \"RplusC_L2\", \"RminusC_L2\",\n",
    "                        \"aplus_L3\", \"aminus_L3\", \"RplusL_L3\", \"RminusL_L3\", \"RplusC_L3\", \"RminusC_L3\"]\n",
    "\n",
    "script_path = os.getcwd()\n",
    "data = pd.read_excel(script_path + '/../DATA/LVSM_Def.xlsx',  engine='openpyxl', header=None, names=values_column_names)\n",
    "\n",
    "# Cleaning data table\n",
    "data = data.drop([0], axis = 0)        # Dropping the headers\n",
    "data = data.drop([\"aplus_L1\", \"aminus_L1\", \"RplusL_L1\", \"RminusL_L1\", \"RplusC_L1\", \"RminusC_L1\", \n",
    "                  \"aplus_L2\", \"aminus_L2\", \"RplusL_L2\", \"RminusL_L2\", \"RplusC_L2\", \"RminusC_L2\",\n",
    "                  \"aplus_L3\", \"aminus_L3\", \"RplusL_L3\", \"RminusL_L3\", \"RplusC_L3\", \"RminusC_L3\"], axis=1)\n",
    "\n",
    "data = data.reset_index(drop = True)"
   ]
  },
  {
   "cell_type": "code",
   "execution_count": 21,
   "metadata": {},
   "outputs": [],
   "source": [
    "# Copy of the dataframe to split date and hour\n",
    "data_new = data.copy(deep=True)"
   ]
  },
  {
   "cell_type": "code",
   "execution_count": 20,
   "metadata": {},
   "outputs": [
    {
     "output_type": "display_data",
     "data": {
      "text/plain": "Button(description='Toggle Pandas/Lux', layout=Layout(top='5px', width='140px'), style=ButtonStyle())",
      "application/vnd.jupyter.widget-view+json": {
       "version_major": 2,
       "version_minor": 0,
       "model_id": "ab99e95fb0ee498c95245272a48c16ba"
      }
     },
     "metadata": {}
    },
    {
     "output_type": "display_data",
     "data": {
      "text/plain": "Output()",
      "application/vnd.jupyter.widget-view+json": {
       "version_major": 2,
       "version_minor": 0,
       "model_id": "693a87159a8c4c18ac638f6a080efcaf"
      }
     },
     "metadata": {}
    },
    {
     "output_type": "execute_result",
     "data": {
      "text/plain": []
     },
     "metadata": {},
     "execution_count": 20
    }
   ],
   "source": [
    "data_new"
   ]
  },
  {
   "cell_type": "code",
   "execution_count": 26,
   "metadata": {},
   "outputs": [
    {
     "output_type": "display_data",
     "data": {
      "text/plain": "                    time branch organization substation transformer_code  \\\n0       2019-06-16 01:00     AE          SZZ       S201              TR1   \n1       2019-06-16 02:00     AE          SZZ       S201              TR1   \n2       2019-06-16 03:00     AE          SZZ       S201              TR1   \n3       2019-06-16 04:00     AE          SZZ       S201              TR1   \n4       2019-06-16 05:00     AE          SZZ       S201              TR1   \n...                  ...    ...          ...        ...              ...   \n167543  2020-06-08 10:00     AE          SZZ       S868              TR1   \n167544  2020-06-08 11:00     AE          SZZ       S868              TR1   \n167545  2020-06-08 12:00     AE          SZZ       S868              TR1   \n167546  2020-06-08 13:00     AE          SZZ       S868              TR1   \n167547  2020-06-08 14:00     AE          SZZ       S868              TR1   \n\n       App SW V_L1 I_L1    W_L1 QL_L1  ... cos_L2 angle_L2 V_L3 I_L3   W_L3  \\\n0        003F  234   65   14964  1988  ...      1        4  236   95  22376   \n1        003F  233   57   13091  1110  ...      1        2  234   97  22524   \n2        003F  236   55   12847  1309  ...      1        1  237   88  20859   \n3        003F  234  135   30517  4860  ...      1        4  236  170  39156   \n4        003F  235  102   23069  4399  ...      1        2  237  107  24779   \n...       ...  ...  ...     ...   ...  ...    ...      ...  ...  ...    ...   \n167543   083E  235  113   25752  6301  ...      0       27  237  100  23328   \n167544   093E  235   64   15021   272  ...      0      189  237   51  10530   \n167545   083E  234  152  -31174  9449  ...      0       15  236  119  27600   \n167546   083E  234  164  -28258  8839  ...      0        8  235  137  31710   \n167547   083E  233  158  -29764  9540  ...      0        9  235  130  30010   \n\n       QL_L3  QC_L3 cos_L3 angle_L3 temp_amb  \n0       1763      0      1        3       30  \n1       2872      0      1        5       29  \n2       2505      0      0        7       29  \n3       6128      0      0        7       29  \n4       2064      0      1        3       29  \n...      ...    ...    ...      ...      ...  \n167543  3403   -611      0       34       23  \n167544     0  -5577      0      214       23  \n167545  5558   -142      0       18       23  \n167546  5540      0      0        9       23  \n167547  6168      0      0       11       23  \n\n[167548 rows x 28 columns]",
      "text/html": "<div>\n<style scoped>\n    .dataframe tbody tr th:only-of-type {\n        vertical-align: middle;\n    }\n\n    .dataframe tbody tr th {\n        vertical-align: top;\n    }\n\n    .dataframe thead th {\n        text-align: right;\n    }\n</style>\n<table border=\"1\" class=\"dataframe\">\n  <thead>\n    <tr style=\"text-align: right;\">\n      <th></th>\n      <th>time</th>\n      <th>branch</th>\n      <th>organization</th>\n      <th>substation</th>\n      <th>transformer_code</th>\n      <th>App SW</th>\n      <th>V_L1</th>\n      <th>I_L1</th>\n      <th>W_L1</th>\n      <th>QL_L1</th>\n      <th>...</th>\n      <th>cos_L2</th>\n      <th>angle_L2</th>\n      <th>V_L3</th>\n      <th>I_L3</th>\n      <th>W_L3</th>\n      <th>QL_L3</th>\n      <th>QC_L3</th>\n      <th>cos_L3</th>\n      <th>angle_L3</th>\n      <th>temp_amb</th>\n    </tr>\n  </thead>\n  <tbody>\n    <tr>\n      <th>0</th>\n      <td>2019-06-16 01:00</td>\n      <td>AE</td>\n      <td>SZZ</td>\n      <td>S201</td>\n      <td>TR1</td>\n      <td>003F</td>\n      <td>234</td>\n      <td>65</td>\n      <td>14964</td>\n      <td>1988</td>\n      <td>...</td>\n      <td>1</td>\n      <td>4</td>\n      <td>236</td>\n      <td>95</td>\n      <td>22376</td>\n      <td>1763</td>\n      <td>0</td>\n      <td>1</td>\n      <td>3</td>\n      <td>30</td>\n    </tr>\n    <tr>\n      <th>1</th>\n      <td>2019-06-16 02:00</td>\n      <td>AE</td>\n      <td>SZZ</td>\n      <td>S201</td>\n      <td>TR1</td>\n      <td>003F</td>\n      <td>233</td>\n      <td>57</td>\n      <td>13091</td>\n      <td>1110</td>\n      <td>...</td>\n      <td>1</td>\n      <td>2</td>\n      <td>234</td>\n      <td>97</td>\n      <td>22524</td>\n      <td>2872</td>\n      <td>0</td>\n      <td>1</td>\n      <td>5</td>\n      <td>29</td>\n    </tr>\n    <tr>\n      <th>2</th>\n      <td>2019-06-16 03:00</td>\n      <td>AE</td>\n      <td>SZZ</td>\n      <td>S201</td>\n      <td>TR1</td>\n      <td>003F</td>\n      <td>236</td>\n      <td>55</td>\n      <td>12847</td>\n      <td>1309</td>\n      <td>...</td>\n      <td>1</td>\n      <td>1</td>\n      <td>237</td>\n      <td>88</td>\n      <td>20859</td>\n      <td>2505</td>\n      <td>0</td>\n      <td>0</td>\n      <td>7</td>\n      <td>29</td>\n    </tr>\n    <tr>\n      <th>3</th>\n      <td>2019-06-16 04:00</td>\n      <td>AE</td>\n      <td>SZZ</td>\n      <td>S201</td>\n      <td>TR1</td>\n      <td>003F</td>\n      <td>234</td>\n      <td>135</td>\n      <td>30517</td>\n      <td>4860</td>\n      <td>...</td>\n      <td>1</td>\n      <td>4</td>\n      <td>236</td>\n      <td>170</td>\n      <td>39156</td>\n      <td>6128</td>\n      <td>0</td>\n      <td>0</td>\n      <td>7</td>\n      <td>29</td>\n    </tr>\n    <tr>\n      <th>4</th>\n      <td>2019-06-16 05:00</td>\n      <td>AE</td>\n      <td>SZZ</td>\n      <td>S201</td>\n      <td>TR1</td>\n      <td>003F</td>\n      <td>235</td>\n      <td>102</td>\n      <td>23069</td>\n      <td>4399</td>\n      <td>...</td>\n      <td>1</td>\n      <td>2</td>\n      <td>237</td>\n      <td>107</td>\n      <td>24779</td>\n      <td>2064</td>\n      <td>0</td>\n      <td>1</td>\n      <td>3</td>\n      <td>29</td>\n    </tr>\n    <tr>\n      <th>...</th>\n      <td>...</td>\n      <td>...</td>\n      <td>...</td>\n      <td>...</td>\n      <td>...</td>\n      <td>...</td>\n      <td>...</td>\n      <td>...</td>\n      <td>...</td>\n      <td>...</td>\n      <td>...</td>\n      <td>...</td>\n      <td>...</td>\n      <td>...</td>\n      <td>...</td>\n      <td>...</td>\n      <td>...</td>\n      <td>...</td>\n      <td>...</td>\n      <td>...</td>\n      <td>...</td>\n    </tr>\n    <tr>\n      <th>167543</th>\n      <td>2020-06-08 10:00</td>\n      <td>AE</td>\n      <td>SZZ</td>\n      <td>S868</td>\n      <td>TR1</td>\n      <td>083E</td>\n      <td>235</td>\n      <td>113</td>\n      <td>25752</td>\n      <td>6301</td>\n      <td>...</td>\n      <td>0</td>\n      <td>27</td>\n      <td>237</td>\n      <td>100</td>\n      <td>23328</td>\n      <td>3403</td>\n      <td>-611</td>\n      <td>0</td>\n      <td>34</td>\n      <td>23</td>\n    </tr>\n    <tr>\n      <th>167544</th>\n      <td>2020-06-08 11:00</td>\n      <td>AE</td>\n      <td>SZZ</td>\n      <td>S868</td>\n      <td>TR1</td>\n      <td>093E</td>\n      <td>235</td>\n      <td>64</td>\n      <td>15021</td>\n      <td>272</td>\n      <td>...</td>\n      <td>0</td>\n      <td>189</td>\n      <td>237</td>\n      <td>51</td>\n      <td>10530</td>\n      <td>0</td>\n      <td>-5577</td>\n      <td>0</td>\n      <td>214</td>\n      <td>23</td>\n    </tr>\n    <tr>\n      <th>167545</th>\n      <td>2020-06-08 12:00</td>\n      <td>AE</td>\n      <td>SZZ</td>\n      <td>S868</td>\n      <td>TR1</td>\n      <td>083E</td>\n      <td>234</td>\n      <td>152</td>\n      <td>-31174</td>\n      <td>9449</td>\n      <td>...</td>\n      <td>0</td>\n      <td>15</td>\n      <td>236</td>\n      <td>119</td>\n      <td>27600</td>\n      <td>5558</td>\n      <td>-142</td>\n      <td>0</td>\n      <td>18</td>\n      <td>23</td>\n    </tr>\n    <tr>\n      <th>167546</th>\n      <td>2020-06-08 13:00</td>\n      <td>AE</td>\n      <td>SZZ</td>\n      <td>S868</td>\n      <td>TR1</td>\n      <td>083E</td>\n      <td>234</td>\n      <td>164</td>\n      <td>-28258</td>\n      <td>8839</td>\n      <td>...</td>\n      <td>0</td>\n      <td>8</td>\n      <td>235</td>\n      <td>137</td>\n      <td>31710</td>\n      <td>5540</td>\n      <td>0</td>\n      <td>0</td>\n      <td>9</td>\n      <td>23</td>\n    </tr>\n    <tr>\n      <th>167547</th>\n      <td>2020-06-08 14:00</td>\n      <td>AE</td>\n      <td>SZZ</td>\n      <td>S868</td>\n      <td>TR1</td>\n      <td>083E</td>\n      <td>233</td>\n      <td>158</td>\n      <td>-29764</td>\n      <td>9540</td>\n      <td>...</td>\n      <td>0</td>\n      <td>9</td>\n      <td>235</td>\n      <td>130</td>\n      <td>30010</td>\n      <td>6168</td>\n      <td>0</td>\n      <td>0</td>\n      <td>11</td>\n      <td>23</td>\n    </tr>\n  </tbody>\n</table>\n<p>167548 rows × 28 columns</p>\n</div>"
     },
     "metadata": {}
    },
    {
     "output_type": "execute_result",
     "data": {
      "text/plain": []
     },
     "metadata": {},
     "execution_count": 26
    }
   ],
   "source": [
    "\n",
    "warnings.filterwarnings('ignore')\n",
    "\n",
    "data_new.intent = [\"substation\", \"V_L1\", \"V_L2\", \"I_L1\", \"I_L2\", \"W_L1\", \"W_L2\", \"QL_L1\", \"QC_L2\"]\n",
    "data_new"
   ]
  },
  {
   "cell_type": "code",
   "execution_count": 24,
   "metadata": {},
   "outputs": [
    {
     "output_type": "execute_result",
     "data": {
      "text/plain": [
       "[]"
      ]
     },
     "metadata": {},
     "execution_count": 24
    }
   ],
   "source": [
    "interestingVis = data_new.exported\n",
    "interestingVis"
   ]
  },
  {
   "cell_type": "code",
   "execution_count": null,
   "metadata": {},
   "outputs": [],
   "source": [
    "interestingVis[0]"
   ]
  },
  {
   "cell_type": "code",
   "execution_count": null,
   "metadata": {},
   "outputs": [],
   "source": [
    "print(interestingVis[0].to_matplotlib())"
   ]
  }
 ]
}