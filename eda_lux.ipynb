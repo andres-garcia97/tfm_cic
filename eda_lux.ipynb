{
 "metadata": {
  "language_info": {
   "codemirror_mode": {
    "name": "ipython",
    "version": 3
   },
   "file_extension": ".py",
   "mimetype": "text/x-python",
   "name": "python",
   "nbconvert_exporter": "python",
   "pygments_lexer": "ipython3",
   "version": "3.9.5"
  },
  "orig_nbformat": 2,
  "kernelspec": {
   "name": "python395jvsc74a57bd0b4e1671892531c7f42accfb44082bb19c3b112f7857c036019b113172dd3e2c2",
   "display_name": "Python 3.9.5 64-bit ('tfm_cic': conda)"
  },
  "metadata": {
   "interpreter": {
    "hash": "b4e1671892531c7f42accfb44082bb19c3b112f7857c036019b113172dd3e2c2"
   }
  }
 },
 "nbformat": 4,
 "nbformat_minor": 2,
 "cells": [
  {
   "cell_type": "code",
   "execution_count": 1,
   "metadata": {},
   "outputs": [],
   "source": [
    "import lux\n",
    "import pandas as pd\n",
    "import warnings\n",
    "import numpy as np\n",
    "\n",
    "from datetime import datetime as dt\n",
    "from datetime import date\n",
    "from datetime import timedelta"
   ]
  },
  {
   "cell_type": "code",
   "execution_count": 2,
   "metadata": {},
   "outputs": [],
   "source": [
    "# Constants\n",
    "values_column_names = [\"time\", \"branch\" , \"organization\", \"substation\", \"transformer_code\", \"App SW\", \n",
    "                        \"V_L1\", \"I_L1\", \"W_L1\", \"QL_L1\", \"QC_L1\",\"cos_L1\", \"angle_L1\",\n",
    "                        \"V_L2\", \"I_L2\", \"W_L2\", \"QL_L2\", \"QC_L2\",\"cos_L2\", \"angle_L2\",\n",
    "                        \"V_L3\", \"I_L3\", \"W_L3\", \"QL_L3\", \"QC_L3\",\"cos_L3\", \"angle_L3\",\n",
    "                        \"temp_amb\",\n",
    "                        \"aplus_L1\", \"aminus_L1\", \"RplusL_L1\", \"RminusL_L1\", \"RplusC_L1\", \"RminusC_L1\", \n",
    "                        \"aplus_L2\", \"aminus_L2\", \"RplusL_L2\", \"RminusL_L2\", \"RplusC_L2\", \"RminusC_L2\",\n",
    "                        \"aplus_L3\", \"aminus_L3\", \"RplusL_L3\", \"RminusL_L3\", \"RplusC_L3\", \"RminusC_L3\"]\n",
    "\n",
    "script_path = os.getcwd()\n",
    "data = pd.read_csv('../DATA/LVSM_Def.csv',  sep = ';', header=0, names=values_column_names)\n",
    "\n",
    "# Cleaning data table\n",
    "data = data.drop([\"aminus_L1\", \"RminusL_L1\", \"RplusC_L1\", \n",
    "                  \"aminus_L2\", \"RminusL_L2\", \"RplusC_L2\",\n",
    "                  \"aminus_L3\", \"RminusL_L3\", \"RplusC_L3\"], axis=1)\n",
    "\n",
    "data = data.reset_index(drop = True)\n",
    "\n",
    "# Change column types to appropiate\n",
    "data = data.astype({\"time\": str, \"branch\": str , \"organization\": str, \"substation\": str, \"transformer_code\": str, \"App SW\": str})\n",
    "\n",
    "data[[\"V_L1\", \"I_L1\", \"W_L1\", \"QL_L1\", \"QC_L1\",\"cos_L1\", \"angle_L1\",\n",
    "      \"V_L2\", \"I_L2\", \"W_L2\", \"QL_L2\", \"QC_L2\",\"cos_L2\", \"angle_L2\",\n",
    "      \"V_L3\", \"I_L3\", \"W_L3\", \"QL_L3\", \"QC_L3\",\"cos_L3\", \"angle_L3\",\n",
    "      \"temp_amb\"]] = data[[\"V_L1\", \"I_L1\", \"W_L1\", \"QL_L1\", \"QC_L1\",\"cos_L1\", \"angle_L1\",\n",
    "                           \"V_L2\", \"I_L2\", \"W_L2\", \"QL_L2\", \"QC_L2\",\"cos_L2\", \"angle_L2\",\n",
    "                           \"V_L3\", \"I_L3\", \"W_L3\", \"QL_L3\", \"QC_L3\",\"cos_L3\", \"angle_L3\",\n",
    "                           \"temp_amb\"]].astype(float)\n",
    "\n",
    "\n",
    "### Deal with the \"24:00\" problem. Adapt BOTH the hour and the day.\n",
    "# Get the indexes and replace hour\n",
    "for i, date in enumerate(data['time']):\n",
    "    if date.split()[1].split(':')[0] == '24':\n",
    "        data.loc[i, 'time'] = data.loc[i, 'time'].replace(\"24:00\",\"00:00\")\n",
    "        data.loc[i, 'time'] = pd.to_datetime(data.loc[i, 'time'], format = '%Y-%m-%d %H:%M') + timedelta(days = 1)\n",
    "\n",
    "# Update the format\n",
    "data['time'] = pd.to_datetime(data['time'], format = '%Y-%m-%d %H:%M:%S')"
   ]
  },
  {
   "cell_type": "code",
   "execution_count": 3,
   "metadata": {},
   "outputs": [],
   "source": [
    "# Copy of the dataframe to split date and hour\n",
    "data_new = data.copy(deep=True)"
   ]
  },
  {
   "cell_type": "code",
   "execution_count": 4,
   "metadata": {},
   "outputs": [],
   "source": [
    "data_test = data_new[['time', 'substation', 'V_L1', 'I_L1', 'W_L1', 'QL_L1', 'QC_L1', 'cos_L1', 'angle_L1', 'aplus_L1', 'RplusL_L1', 'RminusC_L1']]"
   ]
  },
  {
   "cell_type": "code",
   "execution_count": 5,
   "metadata": {},
   "outputs": [],
   "source": [
    "data_test.intent = ['I_L1', 'QC_L1']\n"
   ]
  },
  {
   "cell_type": "code",
   "execution_count": 6,
   "metadata": {},
   "outputs": [
    {
     "output_type": "stream",
     "name": "stderr",
     "text": [
      "<ipython-input-6-bae0d1653c9a>:1: UserWarning:\nNo widget attached to the dataframe.Please assign dataframe to an output variable.\nSee more: https://lux-api.readthedocs.io/en/latest/source/guide/FAQ.html#troubleshooting-tips\n"
     ]
    },
    {
     "output_type": "execute_result",
     "data": {
      "text/plain": [
       "[]"
      ]
     },
     "metadata": {},
     "execution_count": 6
    }
   ],
   "source": [
    "vis = data_new.exported\n",
    "vis"
   ]
  },
  {
   "cell_type": "code",
   "execution_count": null,
   "metadata": {},
   "outputs": [],
   "source": []
  }
 ]
}